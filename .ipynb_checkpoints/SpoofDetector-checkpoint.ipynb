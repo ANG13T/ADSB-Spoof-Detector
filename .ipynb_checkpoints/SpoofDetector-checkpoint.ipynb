{
 "cells": [
  {
   "cell_type": "code",
   "execution_count": null,
   "id": "87040fad",
   "metadata": {},
   "outputs": [],
   "source": [
    "# ADS-B Spoof Detector \n",
    "# Created by Angelina Tsuboi\n",
    "# Begin by parsing ADS-B data. Attributes include the following:\n",
    "# Reference dump1090 README:\n",
    "# https://github.com/SDRplay/dump1090/blob/master/README-json.md\n",
    "# Label = Spoofed or Not"
   ]
  }
 ],
 "metadata": {
  "kernelspec": {
   "display_name": "Python 3 (ipykernel)",
   "language": "python",
   "name": "python3"
  },
  "language_info": {
   "codemirror_mode": {
    "name": "ipython",
    "version": 3
   },
   "file_extension": ".py",
   "mimetype": "text/x-python",
   "name": "python",
   "nbconvert_exporter": "python",
   "pygments_lexer": "ipython3",
   "version": "3.9.13"
  }
 },
 "nbformat": 4,
 "nbformat_minor": 5
}
