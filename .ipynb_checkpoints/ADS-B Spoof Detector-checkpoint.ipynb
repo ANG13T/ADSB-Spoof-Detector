{
 "cells": [
  {
   "cell_type": "code",
   "execution_count": null,
   "id": "e2b922ee",
   "metadata": {},
   "outputs": [],
   "source": [
    "# ADS-B Spoof Detector \n",
    "# Created by Angelina Tsuboi\n",
    "# Begin by parsing ADS-B data. Attributes include the following:\n",
    "# Reference dump1090 README:\n",
    "# https://github.com/SDRplay/dump1090/blob/master/README-json.md\n",
    "# Label = Spoofed or Not (Binary Classification)\n",
    "# Data samples from Flight Aware and ADSB Exchange\n",
    "# https://www.adsbexchange.com/data-samples/\n",
    "# https://samples.adsbexchange.com/readsb-hist/2022/05/01/\n",
    "# https://www.adsbexchange.com/version-2-api-wip/\n",
    "# https://elmwoodelectronics.ca/blogs/news/tracking-and-logging-flights-with-ads-b-flight-aware-and-raspberry-pi ****\n",
    "# https://ieeexplore.ieee.org/document/9377975"
   ]
  },
  {
   "cell_type": "code",
   "execution_count": 3,
   "id": "243d62b5",
   "metadata": {
    "scrolled": true
   },
   "outputs": [
    {
     "name": "stderr",
     "output_type": "stream",
     "text": [
      "2023-01-27 20:42:13.824984: I tensorflow/core/platform/cpu_feature_guard.cc:193] This TensorFlow binary is optimized with oneAPI Deep Neural Network Library (oneDNN) to use the following CPU instructions in performance-critical operations:  AVX2 FMA\n",
      "To enable them in other operations, rebuild TensorFlow with the appropriate compiler flags.\n"
     ]
    }
   ],
   "source": [
    "# Imports\n",
    "import json\n",
    "import csv\n",
    "import numpy as np\n",
    "import keras\n",
    "# from keras.models import Sequential\n",
    "# from keras.layers import Dense, Dropout, Flatten\n",
    "# from keras.layers import Conv2D, MaxPooling2D\n",
    "# from keras.utils import to_categorical"
   ]
  },
  {
   "cell_type": "code",
   "execution_count": 6,
   "id": "16c877b8",
   "metadata": {},
   "outputs": [],
   "source": [
    "# Conversion from JSON (raw data given by dump1090 to CSV which is more interpretable by network)\n",
    "# First interpret valid ADSB data then spoofed dataset\n",
    "\n",
    "# Valid data parsing first\n",
    "with open('data/aircraft_valid.json') as json_file:\n",
    "    data_valid = json.load(json_file)\n",
    "    \n",
    "# Parse spoofed data\n",
    "with open('data/aircraft_spoofed.json') as json_file:\n",
    "    data_spoofed = json.load(json_file)\n",
    " \n",
    "aircraft_data_valid = data_valid['aircraft']\n",
    "aircraft_data_spoofed = data_spoofed['aircraft']\n",
    " \n",
    "# now we will open a file for writing\n",
    "data_file = open('data/aircraft_data.csv', 'w')\n",
    " \n",
    "# create the csv writer object\n",
    "csv_writer = csv.writer(data_file)\n",
    " \n",
    "# Counter variable used for writing\n",
    "# headers to the CSV file\n",
    "count = 0\n",
    " \n",
    "for aircraft in aircraft_data_valid:\n",
    "    aircraft['is_spoofed'] = False\n",
    "    if count == 0:\n",
    "        # Writing headers of CSV file\n",
    "        header = aircraft.keys()\n",
    "        csv_writer.writerow(header)\n",
    "        count += 1\n",
    " \n",
    "    # Writing data of CSV file\n",
    "    csv_writer.writerow(aircraft.values())\n",
    "\n",
    "for aircraft in aircraft_data_spoofed:\n",
    "    aircraft['is_spoofed'] = True\n",
    "    # Writing data of CSV file\n",
    "    csv_writer.writerow(aircraft.values())\n",
    " \n",
    "data_file.close()"
   ]
  },
  {
   "cell_type": "code",
   "execution_count": null,
   "id": "180bd853",
   "metadata": {},
   "outputs": [],
   "source": [
    "# TODO: \n",
    "# {\n",
    "#   {\n",
    "#     \"name\": \"HGD\",\n",
    "#     \"altitude\": 400,\n",
    "#     \"long\": 45,\n",
    "#     \"lat\": 4\n",
    "#   },\n",
    "#   {\n",
    "#     \"name\": \"HGD\",\n",
    "#     \"altitude\": 600,\n",
    "#     \"long\": 50,\n",
    "#     \"lat\": 5\n",
    "#   },\n",
    "#   ...\n",
    "# }\n",
    "def process_json(json_file):\n",
    "    # Load the JSON data\n",
    "    with open(json_file) as f:\n",
    "        data = json.load(f)\n",
    "\n",
    "    # Extract the features and labels from the JSON data\n",
    "    features = []\n",
    "    labels = []\n",
    "    for transmission in data['aircraft']:\n",
    "        features.append([transmission['hex'], transmission['type'], transmission['alt_baro']])\n",
    "        labels.append(transmission['flight'])\n",
    "    \n",
    "    # Normalize the features using StandardScaler\n",
    "    scaler = StandardScaler()\n",
    "    features = scaler.fit_transform(features)\n",
    "\n",
    "    # Reshape the data to match the input format of the model\n",
    "    features = np.reshape(features, (features.shape[0], 1, features.shape[1]))\n",
    "\n",
    "    # Convert the labels to categorical format\n",
    "    labels = to_categorical(labels)\n",
    "\n",
    "    # Return the processed data\n",
    "    return features, labels\n",
    "\n",
    "# Example usage\n",
    "x_train, y_train = process_json(\"data/aircraft_spoofed.json\")\n",
    "print(x_train)"
   ]
  },
  {
   "cell_type": "code",
   "execution_count": null,
   "id": "6d0f81bc",
   "metadata": {},
   "outputs": [],
   "source": [
    "# Prepare Dataset to be Placed into Neural Network\n",
    "# Split into Training and Testing Sets"
   ]
  },
  {
   "cell_type": "code",
   "execution_count": null,
   "id": "b0bf5de8",
   "metadata": {},
   "outputs": [],
   "source": [
    "# CNN Architecture\n",
    "model = Sequential()\n",
    "model.add(Conv2D(32, kernel_size=(3, 3), activation='relu', input_shape=(28, 28, 1)))\n",
    "model.add(MaxPooling2D(pool_size=(2, 2)))\n",
    "model.add(Conv2D(64, kernel_size=(3, 3), activation='relu'))\n",
    "model.add(MaxPooling2D(pool_size=(2, 2)))\n",
    "model.add(Flatten())\n",
    "model.add(Dense(128, activation='relu'))\n",
    "model.add(Dropout(0.5))\n",
    "model.add(Dense(2, activation='softmax'))\n",
    "\n",
    "# Compile the model\n",
    "model.compile(loss='categorical_crossentropy', optimizer='adam', metrics=['accuracy'])\n",
    "\n",
    "# Train the model on the training data\n",
    "model.fit(x_train, y_train, epochs=10, batch_size=32)\n",
    "\n",
    "# Evaluate the model on the test data\n",
    "test_loss, test_acc = model.evaluate(x_test, y_test)\n",
    "print('Test accuracy:', test_acc)\n",
    "\n",
    "# Use the model to classify new ADSB data\n",
    "predictions = model.predict(x_new)"
   ]
  },
  {
   "cell_type": "code",
   "execution_count": null,
   "id": "b7209d4f",
   "metadata": {},
   "outputs": [],
   "source": [
    "# Show location of spoofed aircraft with Folium"
   ]
  }
 ],
 "metadata": {
  "kernelspec": {
   "display_name": "Python 3 (ipykernel)",
   "language": "python",
   "name": "python3"
  },
  "language_info": {
   "codemirror_mode": {
    "name": "ipython",
    "version": 3
   },
   "file_extension": ".py",
   "mimetype": "text/x-python",
   "name": "python",
   "nbconvert_exporter": "python",
   "pygments_lexer": "ipython3",
   "version": "3.9.13"
  }
 },
 "nbformat": 4,
 "nbformat_minor": 5
}
