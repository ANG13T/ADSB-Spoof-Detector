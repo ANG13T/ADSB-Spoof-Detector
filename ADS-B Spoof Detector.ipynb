{
 "cells": [
  {
   "cell_type": "code",
   "execution_count": 4,
   "id": "e2b922ee",
   "metadata": {},
   "outputs": [],
   "source": [
    "# ADS-B Spoof Detector \n",
    "# Created by Angelina Tsuboi"
   ]
  },
  {
   "cell_type": "code",
   "execution_count": 2,
   "id": "243d62b5",
   "metadata": {
    "scrolled": true
   },
   "outputs": [
    {
     "name": "stderr",
     "output_type": "stream",
     "text": [
      "2023-02-28 00:49:52.707292: I tensorflow/core/platform/cpu_feature_guard.cc:193] This TensorFlow binary is optimized with oneAPI Deep Neural Network Library (oneDNN) to use the following CPU instructions in performance-critical operations:  AVX2 FMA\n",
      "To enable them in other operations, rebuild TensorFlow with the appropriate compiler flags.\n"
     ]
    }
   ],
   "source": [
    "# Imports\n",
    "import json\n",
    "import csv\n",
    "import random\n",
    "import string\n",
    "import numpy as np\n",
    "import keras\n",
    "from keras.models import Sequential\n",
    "from keras.layers import Dense, Dropout, Flatten\n",
    "# from keras.layers import Conv2D, MaxPooling2D\n",
    "# from keras.utils import to_categorical"
   ]
  },
  {
   "cell_type": "code",
   "execution_count": 3,
   "id": "c5f9f7a1",
   "metadata": {},
   "outputs": [
    {
     "name": "stdout",
     "output_type": "stream",
     "text": [
      "Spoofed aircraft:  [{'hex': 'ADCF46', 'type': 'adsc', 'flight': 'R658', 'r': 'Y8MZA3', 't': 'IL96', 'alt_baro': 14981, 'gs': 992, 'track': 329, 'baro_rate': 51.95615563370848, 'lat': -53.140866882222575, 'lon': -176.2820790187022, 'nic': 0, 'rc': 0, 'seen_pos': 9, 'mlat': [], 'tisb': [], 'messages': 905, 'seen': 547, 'rssi': -33, 'is_spoofed': True}, {'hex': 'B49A8B', 'type': 'adsc', 'flight': 'FEFY', 'r': '39MCTP', 't': 'ERJ145', 'alt_baro': 28624, 'gs': 857, 'track': 58, 'baro_rate': 1120.6695867555136, 'lat': -70.63707032573711, 'lon': 155.43889428300025, 'nic': 0, 'rc': 0, 'seen_pos': 22, 'mlat': [], 'tisb': [], 'messages': 352, 'seen': 407, 'rssi': -121, 'is_spoofed': True}, {'hex': 'B96D38', 'type': 'adsc', 'flight': 'IMGI', 'r': 'F4VWJ7', 't': 'TBM9', 'alt_baro': 18481, 'gs': 777, 'track': 287, 'baro_rate': 529.9607587270998, 'lat': 54.975601877867916, 'lon': 42.73213053117237, 'nic': 0, 'rc': 0, 'seen_pos': 26, 'mlat': [], 'tisb': [], 'messages': 191, 'seen': 105, 'rssi': -79, 'is_spoofed': True}, {'hex': 'E63452', 'type': 'adsc', 'flight': 'QNYO', 'r': 'DP0YEU', 't': 'A340', 'alt_baro': 31991, 'gs': 230, 'track': 256, 'baro_rate': 1158.550622550522, 'lat': 9.09813828203248, 'lon': -27.634067045877345, 'nic': 0, 'rc': 0, 'seen_pos': 15, 'mlat': [], 'tisb': [], 'messages': 175, 'seen': 913, 'rssi': -60, 'is_spoofed': True}, {'hex': 'B9FE57', 'type': 'adsc', 'flight': 'QLKJ', 'r': 'L0H7NV', 't': 'A380', 'alt_baro': 31135, 'gs': 600, 'track': 42, 'baro_rate': -1892.060306911024, 'lat': -4.236108950601334, 'lon': 82.53803360858547, 'nic': 0, 'rc': 0, 'seen_pos': 7, 'mlat': [], 'tisb': [], 'messages': 477, 'seen': 793, 'rssi': -125, 'is_spoofed': True}, {'hex': '8F79E5', 'type': 'adsc', 'flight': 'DWP3', 'r': '0TNKZ1', 't': 'A320', 'alt_baro': 16748, 'gs': 482, 'track': 217, 'baro_rate': 1437.5175835079049, 'lat': -58.40100110006055, 'lon': 116.2203850750737, 'nic': 0, 'rc': 0, 'seen_pos': 2, 'mlat': [], 'tisb': [], 'messages': 857, 'seen': 67, 'rssi': -59, 'is_spoofed': True}, {'hex': 'B0BB00', 'type': 'adsc', 'flight': 'R9E8', 'r': 'S8HDCK', 't': 'B737', 'alt_baro': 19137, 'gs': 854, 'track': 296, 'baro_rate': -127.71259099474446, 'lat': -33.70444142432079, 'lon': -133.265091928988, 'nic': 0, 'rc': 0, 'seen_pos': 14, 'mlat': [], 'tisb': [], 'messages': 658, 'seen': 693, 'rssi': -40, 'is_spoofed': True}, {'hex': 'D25EC6', 'type': 'adsc', 'flight': 'L5TF', 'r': '9BAYFM', 't': 'B767', 'alt_baro': 3818, 'gs': 583, 'track': 202, 'baro_rate': -345.08084792210434, 'lat': -27.02768002026744, 'lon': -174.51480503802466, 'nic': 0, 'rc': 0, 'seen_pos': 16, 'mlat': [], 'tisb': [], 'messages': 642, 'seen': 260, 'rssi': -138, 'is_spoofed': True}, {'hex': '44B4B4', 'type': 'adsc', 'flight': '4Y9I', 'r': 'H8L2RD', 't': 'F35', 'alt_baro': 1678, 'gs': 766, 'track': 57, 'baro_rate': 181.78840537667838, 'lat': 84.31849691882024, 'lon': -127.98286993054914, 'nic': 0, 'rc': 0, 'seen_pos': 24, 'mlat': [], 'tisb': [], 'messages': 493, 'seen': 282, 'rssi': -159, 'is_spoofed': True}, {'hex': '8921E5', 'type': 'adsc', 'flight': '7WFB', 'r': 'QA0PEF', 't': 'G650', 'alt_baro': 7325, 'gs': 324, 'track': 11, 'baro_rate': -1405.3161215722766, 'lat': -19.618244142127736, 'lon': -104.36195423053918, 'nic': 0, 'rc': 0, 'seen_pos': 14, 'mlat': [], 'tisb': [], 'messages': 348, 'seen': 159, 'rssi': -243, 'is_spoofed': True}, {'hex': 'D2F9D3', 'type': 'adsc', 'flight': 'PQQG', 'r': 'JZK6RU', 't': 'G650', 'alt_baro': 10008, 'gs': 352, 'track': 329, 'baro_rate': 1740.4398243376854, 'lat': -79.34920470985637, 'lon': 120.5477568734484, 'nic': 0, 'rc': 0, 'seen_pos': 16, 'mlat': [], 'tisb': [], 'messages': 15, 'seen': 944, 'rssi': -157, 'is_spoofed': True}, {'hex': '908E48', 'type': 'adsc', 'flight': '7FCW', 'r': '51KTPJ', 't': 'C172', 'alt_baro': 32885, 'gs': 750, 'track': 105, 'baro_rate': -1187.4904254666803, 'lat': 37.64339471744303, 'lon': -142.1751194570225, 'nic': 0, 'rc': 0, 'seen_pos': 18, 'mlat': [], 'tisb': [], 'messages': 939, 'seen': 747, 'rssi': -191, 'is_spoofed': True}, {'hex': 'C563F3', 'type': 'adsc', 'flight': 'NCKI', 'r': 'WVEL8D', 't': 'ERJ145', 'alt_baro': 27884, 'gs': 882, 'track': 103, 'baro_rate': -358.42602656758595, 'lat': -84.30734092966681, 'lon': -145.45706370112265, 'nic': 0, 'rc': 0, 'seen_pos': 30, 'mlat': [], 'tisb': [], 'messages': 624, 'seen': 780, 'rssi': -18, 'is_spoofed': True}, {'hex': '6D610E', 'type': 'adsc', 'flight': '0HYC', 'r': 'RAXDSV', 't': 'V50', 'alt_baro': 27694, 'gs': 777, 'track': 314, 'baro_rate': -758.8941505361731, 'lat': 69.4591185015334, 'lon': -58.736257977924, 'nic': 0, 'rc': 0, 'seen_pos': 11, 'mlat': [], 'tisb': [], 'messages': 793, 'seen': 487, 'rssi': -117, 'is_spoofed': True}, {'hex': 'C59AB2', 'type': 'adsc', 'flight': '98JU', 'r': 'A396JE', 't': 'UH60', 'alt_baro': 13733, 'gs': 531, 'track': 193, 'baro_rate': -96.74242581571002, 'lat': -26.104607297305492, 'lon': 55.22126849034464, 'nic': 0, 'rc': 0, 'seen_pos': 5, 'mlat': [], 'tisb': [], 'messages': 415, 'seen': 272, 'rssi': -90, 'is_spoofed': True}, {'hex': 'E51C52', 'type': 'adsc', 'flight': 'WFXH', 'r': 'GF92MY', 't': 'Cessna Citation X', 'alt_baro': 27179, 'gs': 128, 'track': 241, 'baro_rate': -623.4248849558401, 'lat': 89.72702163236468, 'lon': 60.43773118503972, 'nic': 0, 'rc': 0, 'seen_pos': 4, 'mlat': [], 'tisb': [], 'messages': 176, 'seen': 759, 'rssi': -138, 'is_spoofed': True}, {'hex': '337D56', 'type': 'adsc', 'flight': '2TI8', 'r': 'WJVGP3', 't': 'B777', 'alt_baro': 16384, 'gs': 635, 'track': 349, 'baro_rate': -1769.8393416672604, 'lat': 46.41044468542532, 'lon': -35.11638185309354, 'nic': 0, 'rc': 0, 'seen_pos': 4, 'mlat': [], 'tisb': [], 'messages': 809, 'seen': 718, 'rssi': -248, 'is_spoofed': True}, {'hex': '431B77', 'type': 'adsc', 'flight': 'RLHG', 'r': 'NQU4YB', 't': 'A330', 'alt_baro': 680, 'gs': 926, 'track': 300, 'baro_rate': -1532.3074175103684, 'lat': 75.70139811438963, 'lon': -98.31384521657387, 'nic': 0, 'rc': 0, 'seen_pos': 6, 'mlat': [], 'tisb': [], 'messages': 608, 'seen': 234, 'rssi': -169, 'is_spoofed': True}, {'hex': '25E0C9', 'type': 'adsc', 'flight': '10CC', 'r': 'FXZYMO', 't': 'Jetstream 41', 'alt_baro': 22682, 'gs': 578, 'track': 300, 'baro_rate': -1509.2089648720805, 'lat': 1.4849833049112675, 'lon': 18.55896956914819, 'nic': 0, 'rc': 0, 'seen_pos': 17, 'mlat': [], 'tisb': [], 'messages': 195, 'seen': 847, 'rssi': -23, 'is_spoofed': True}, {'hex': 'AD1C9F', 'type': 'adsc', 'flight': 'H7V1', 'r': 'HFYBST', 't': 'XT6', 'alt_baro': 22891, 'gs': 347, 'track': 251, 'baro_rate': -1777.4521727385127, 'lat': 62.980321739913876, 'lon': -16.22979811697155, 'nic': 0, 'rc': 0, 'seen_pos': 0, 'mlat': [], 'tisb': [], 'messages': 121, 'seen': 267, 'rssi': -76, 'is_spoofed': True}]\n",
      "Wrote Spoofed Data into data/aircraft_spoofed.json!\n"
     ]
    }
   ],
   "source": [
    "# Script for Generating Random Spoofed Aircraft\n",
    "def generate_registration_id():\n",
    "    # create a list of possible characters for the registration ID\n",
    "    characters = list(\"ABCDEFGHIJKLMNOPQRSTUVWXYZ0123456789\")\n",
    "    # shuffle the list of characters\n",
    "    random.shuffle(characters)\n",
    "    # take the first 3 characters as the prefix\n",
    "    prefix = \"\".join(characters[:3])\n",
    "    # take the next 3 characters as the suffix\n",
    "    suffix = \"\".join(characters[3:6])\n",
    "    # return the concatenated prefix and suffix as the registration ID\n",
    "    return prefix + suffix\n",
    "\n",
    "def generate_aircraft_type():\n",
    "    # create a list of possible aircraft types\n",
    "    aircraft_types = [\n",
    "        \"A320\", \"A321\", \"A330\", \"A340\", \"A350\", \"A380\",\n",
    "        \"B737\", \"B747\", \"B757\", \"B767\", \"B777\", \"B787\",\n",
    "        \"C172\", \"C208\", \"Cessna Citation X\",\n",
    "        \"DHC6\", \"DHC8\",\n",
    "        \"ERJ145\", \"ERJ170\", \"ERJ190\",\n",
    "        \"F22\", \"F35\", \"F16\", \"F18\",\n",
    "        \"G650\",\n",
    "        \"HA4T\",\n",
    "        \"IL76\", \"IL96\",\n",
    "        \"JS41\", \"Jetstream 41\",\n",
    "        \"MD11\", \"MD80\", \"MD90\",\n",
    "        \"P180\", \"P2006T\",\n",
    "        \"Q400\", \"Q400X\",\n",
    "        \"RJ100\", \"RJ85\",\n",
    "        \"S76\", \"S92\",\n",
    "        \"TBM9\", \"TBM9\",\n",
    "        \"UH1\", \"UH60\",\n",
    "        \"V22\", \"V35\", \"V50\",\n",
    "        \"XCub\", \"XT6\",\n",
    "        \"Yak40\", \"Yak52\",\n",
    "        \"Zlin\", \"Zlin242\"\n",
    "    ]\n",
    "    # return a random aircraft type from the list\n",
    "    return random.choice(aircraft_types)\n",
    "\n",
    "def generate_spoofed_aircraft(n):\n",
    "    # create a list of spoofed aircraft objects\n",
    "    # reference: https://www.adsbexchange.com/version-2-api-wip/\n",
    "    spoofed_aircraft = []\n",
    "    for i in range(n):\n",
    "        hex = ''.join(random.choices('0123456789ABCDEF', k=6))\n",
    "        flight = ''.join(random.choices(string.ascii_uppercase + string.digits, k=4))\n",
    "        lat = random.uniform(-90, 90)\n",
    "        type_aircraft = generate_aircraft_type()\n",
    "        aircraft_reg = generate_registration_id()\n",
    "        lon = random.uniform(-180, 180)\n",
    "        alt = random.randint(0, 40000)\n",
    "        spd = random.randint(0, 1000)\n",
    "        gs = random.randint(0, 1000)\n",
    "        seen_pos = random.randint(0, 30)\n",
    "        trk = random.randint(0, 360)\n",
    "        baro_rate = random.uniform(-2000, 2000)\n",
    "        vrt = random.randint(-1000, 1000)\n",
    "        msgs = random.randint(0, 1000)\n",
    "        seen = random.randint(0, 1000)\n",
    "        rssi = random.randint(-255,0)\n",
    "        spoofed_aircraft.append({\"hex\": hex, \"type\":\"adsc\", \"flight\": flight, \"r\": aircraft_reg, \"t\": type_aircraft, \"alt_baro\": alt, \"gs\": gs, \"track\": trk, \"baro_rate\": baro_rate, \"lat\": lat, \"lon\": lon, \"nic\":0, \"rc\":0, \"seen_pos\": seen_pos,\"mlat\":[],\"tisb\":[],\"messages\": msgs, \"seen\": seen, \"rssi\": rssi, \"is_spoofed\": True})\n",
    "\n",
    "    # return the json array\n",
    "    return spoofed_aircraft\n",
    "\n",
    "# Insert 20 Spoofed Aircraft\n",
    "with open('data/aircraft_spoofed.json', 'w') as json_file:\n",
    "    spoofed_aircraft = generate_spoofed_aircraft(20)\n",
    "    print(\"Spoofed aircraft: \", spoofed_aircraft)\n",
    "    json.dump({\"aircraft\": spoofed_aircraft}, json_file)\n",
    "    print(\"Wrote Spoofed Data into data/aircraft_spoofed.json!\")"
   ]
  },
  {
   "cell_type": "code",
   "execution_count": 30,
   "id": "16c877b8",
   "metadata": {},
   "outputs": [],
   "source": [
    "# Conversion from JSON (raw data given by dump1090 to CSV which is more interpretable by network)\n",
    "# First interpret valid ADSB data then spoofed dataset\n",
    "\n",
    "# Valid data parsing first\n",
    "with open('data/aircraft_valid.json') as json_file:\n",
    "    data_valid = json.load(json_file)\n",
    "    \n",
    "# Parse spoofed data\n",
    "with open('data/aircraft_spoofed.json') as json_file:\n",
    "    data_spoofed = json.load(json_file)\n",
    " \n",
    "aircraft_data_valid = data_valid['aircraft']\n",
    "aircraft_data_spoofed = data_spoofed['aircraft']\n",
    " \n",
    "# now we will open a file for writing\n",
    "data_file = open('data/aircraft_data.csv', 'w')\n",
    " \n",
    "# create the csv writer object\n",
    "csv_writer = csv.writer(data_file)\n",
    " \n",
    "# Counter variable used for writing\n",
    "# headers to the CSV file\n",
    "count = 0\n",
    " \n",
    "for aircraft in aircraft_data_valid:\n",
    "    aircraft['is_spoofed'] = False\n",
    "    if count == 0:\n",
    "        # Writing headers of CSV file\n",
    "        csv_writer.writerow([\"hex\",\"type\",\"flight\",\"r\",\"t\",\"alt_baro\",\"gs\",\"track\",\"baro_rate\",\"lat\",\"lon\",\"nic\",\"rc\",\"seen_pos\",\"mlat\",\"tisb\",\"messages\",\"seen\",\"rssi\",\"is_spoofed\"])\n",
    "        count += 1\n",
    " \n",
    "    # Writing data of CSV file\n",
    "    csv_writer.writerow([aircraft.get('hex'), aircraft.get('type'), aircraft.get('flight'), aircraft.get('r'), aircraft.get('t'), aircraft.get('alt_baro'), aircraft.get('gs'), aircraft.get('track'), aircraft.get('baro_rate'), aircraft.get('lat'), aircraft.get('lon'), aircraft.get('nic'), aircraft.get('rc'), aircraft.get('seen_pos'), aircraft.get('mlat'), aircraft.get('tisb'), aircraft.get('messages'), aircraft.get('seen'), aircraft.get('rssi'), False])\n",
    "\n",
    "for aircraft in aircraft_data_spoofed:\n",
    "    aircraft['is_spoofed'] = True\n",
    "    # Writing data of CSV file\n",
    "    csv_writer.writerow(aircraft.values())\n",
    " \n",
    "data_file.close()"
   ]
  },
  {
   "cell_type": "code",
   "execution_count": null,
   "id": "180bd853",
   "metadata": {},
   "outputs": [],
   "source": [
    "# TODO: \n",
    "# {\n",
    "#   {\n",
    "#     \"name\": \"HGD\",\n",
    "#     \"altitude\": 400,\n",
    "#     \"long\": 45,\n",
    "#     \"lat\": 4\n",
    "#   },\n",
    "#   {\n",
    "#     \"name\": \"HGD\",\n",
    "#     \"altitude\": 600,\n",
    "#     \"long\": 50,\n",
    "#     \"lat\": 5\n",
    "#   },\n",
    "#   ...\n",
    "# }\n",
    "def process_json(json_file):\n",
    "    # Load the JSON data\n",
    "    with open(json_file) as f:\n",
    "        data = json.load(f)\n",
    "\n",
    "    # Extract the features and labels from the JSON data\n",
    "    features = []\n",
    "    labels = []\n",
    "    for transmission in data['aircraft']:\n",
    "        features.append([transmission['hex'], transmission['type'], transmission['alt_baro']])\n",
    "        labels.append(transmission['flight'])\n",
    "    \n",
    "    # Normalize the features using StandardScaler\n",
    "    scaler = StandardScaler()\n",
    "    features = scaler.fit_transform(features)\n",
    "\n",
    "    # Reshape the data to match the input format of the model\n",
    "    features = np.reshape(features, (features.shape[0], 1, features.shape[1]))\n",
    "\n",
    "    # Convert the labels to categorical format\n",
    "    labels = to_categorical(labels)\n",
    "\n",
    "    # Return the processed data\n",
    "    return features, labels\n",
    "\n",
    "# Example usage\n",
    "x_train, y_train = process_json(\"data/aircraft_spoofed.json\")\n",
    "print(x_train)"
   ]
  },
  {
   "cell_type": "code",
   "execution_count": 5,
   "id": "6d0f81bc",
   "metadata": {},
   "outputs": [],
   "source": [
    "# Prepare Dataset to be Placed into Neural Network\n",
    "# Split into Training and Testing Sets"
   ]
  },
  {
   "cell_type": "code",
   "execution_count": 6,
   "id": "b0bf5de8",
   "metadata": {},
   "outputs": [
    {
     "name": "stderr",
     "output_type": "stream",
     "text": [
      "2023-02-28 00:57:59.549439: I tensorflow/core/platform/cpu_feature_guard.cc:193] This TensorFlow binary is optimized with oneAPI Deep Neural Network Library (oneDNN) to use the following CPU instructions in performance-critical operations:  AVX2 FMA\n",
      "To enable them in other operations, rebuild TensorFlow with the appropriate compiler flags.\n"
     ]
    },
    {
     "ename": "NameError",
     "evalue": "name 'Conv2D' is not defined",
     "output_type": "error",
     "traceback": [
      "\u001b[0;31m---------------------------------------------------------------------------\u001b[0m",
      "\u001b[0;31mNameError\u001b[0m                                 Traceback (most recent call last)",
      "Cell \u001b[0;32mIn[6], line 3\u001b[0m\n\u001b[1;32m      1\u001b[0m \u001b[38;5;66;03m# CNN Architecture\u001b[39;00m\n\u001b[1;32m      2\u001b[0m model \u001b[38;5;241m=\u001b[39m Sequential()\n\u001b[0;32m----> 3\u001b[0m model\u001b[38;5;241m.\u001b[39madd(\u001b[43mConv2D\u001b[49m(\u001b[38;5;241m32\u001b[39m, kernel_size\u001b[38;5;241m=\u001b[39m(\u001b[38;5;241m3\u001b[39m, \u001b[38;5;241m3\u001b[39m), activation\u001b[38;5;241m=\u001b[39m\u001b[38;5;124m'\u001b[39m\u001b[38;5;124mrelu\u001b[39m\u001b[38;5;124m'\u001b[39m, input_shape\u001b[38;5;241m=\u001b[39m(\u001b[38;5;241m28\u001b[39m, \u001b[38;5;241m28\u001b[39m, \u001b[38;5;241m1\u001b[39m)))\n\u001b[1;32m      4\u001b[0m model\u001b[38;5;241m.\u001b[39madd(MaxPooling2D(pool_size\u001b[38;5;241m=\u001b[39m(\u001b[38;5;241m2\u001b[39m, \u001b[38;5;241m2\u001b[39m)))\n\u001b[1;32m      5\u001b[0m model\u001b[38;5;241m.\u001b[39madd(Conv2D(\u001b[38;5;241m64\u001b[39m, kernel_size\u001b[38;5;241m=\u001b[39m(\u001b[38;5;241m3\u001b[39m, \u001b[38;5;241m3\u001b[39m), activation\u001b[38;5;241m=\u001b[39m\u001b[38;5;124m'\u001b[39m\u001b[38;5;124mrelu\u001b[39m\u001b[38;5;124m'\u001b[39m))\n",
      "\u001b[0;31mNameError\u001b[0m: name 'Conv2D' is not defined"
     ]
    }
   ],
   "source": [
    "# CNN Architecture\n",
    "model = Sequential()\n",
    "model.add(Conv2D(32, kernel_size=(3, 3), activation='relu', input_shape=(28, 28, 1)))\n",
    "model.add(MaxPooling2D(pool_size=(2, 2)))\n",
    "model.add(Conv2D(64, kernel_size=(3, 3), activation='relu'))\n",
    "model.add(MaxPooling2D(pool_size=(2, 2)))\n",
    "model.add(Flatten())\n",
    "model.add(Dense(128, activation='relu'))\n",
    "model.add(Dropout(0.5))\n",
    "model.add(Dense(2, activation='softmax'))\n",
    "\n",
    "# Compile the model\n",
    "model.compile(loss='categorical_crossentropy', optimizer='adam', metrics=['accuracy'])\n",
    "\n",
    "# Train the model on the training data\n",
    "model.fit(x_train, y_train, epochs=10, batch_size=32)\n",
    "\n",
    "# Evaluate the model on the test data\n",
    "test_loss, test_acc = model.evaluate(x_test, y_test)\n",
    "print('Test accuracy:', test_acc)\n",
    "\n",
    "# Use the model to classify new ADSB data\n",
    "predictions = model.predict(x_new)"
   ]
  },
  {
   "cell_type": "code",
   "execution_count": null,
   "id": "b7209d4f",
   "metadata": {},
   "outputs": [],
   "source": [
    "# Show location of spoofed aircraft with Folium"
   ]
  },
  {
   "cell_type": "code",
   "execution_count": null,
   "id": "4050db9e",
   "metadata": {},
   "outputs": [],
   "source": [
    "# More Information and References\n",
    "# Reference dump1090 README:\n",
    "# https://github.com/SDRplay/dump1090/blob/master/README-json.md\n",
    "# Label = Spoofed or Not (Binary Classification)\n",
    "# Data samples from Flight Aware and ADSB Exchange\n",
    "# https://www.adsbexchange.com/data-samples/\n",
    "# https://samples.adsbexchange.com/readsb-hist/2022/05/01/\n",
    "# https://www.adsbexchange.com/version-2-api-wip/\n",
    "# https://elmwoodelectronics.ca/blogs/news/tracking-and-logging-flights-with-ads-b-flight-aware-and-raspberry-pi ****\n",
    "# https://ieeexplore.ieee.org/document/9377975\n",
    "# https://www.adsbexchange.com/version-2-api-wip/"
   ]
  }
 ],
 "metadata": {
  "kernelspec": {
   "display_name": "Python 3 (ipykernel)",
   "language": "python",
   "name": "python3"
  },
  "language_info": {
   "codemirror_mode": {
    "name": "ipython",
    "version": 3
   },
   "file_extension": ".py",
   "mimetype": "text/x-python",
   "name": "python",
   "nbconvert_exporter": "python",
   "pygments_lexer": "ipython3",
   "version": "3.9.13"
  }
 },
 "nbformat": 4,
 "nbformat_minor": 5
}
