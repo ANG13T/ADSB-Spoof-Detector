{
  "nbformat": 4,
  "nbformat_minor": 0,
  "metadata": {
    "colab": {
      "provenance": [],
      "authorship_tag": "ABX9TyMykJD+G6bmP8ApRzWEo1kN",
      "include_colab_link": true
    },
    "kernelspec": {
      "name": "python3",
      "display_name": "Python 3"
    },
    "language_info": {
      "name": "python"
    }
  },
  "cells": [
    {
      "cell_type": "markdown",
      "metadata": {
        "id": "view-in-github",
        "colab_type": "text"
      },
      "source": [
        "<a href=\"https://colab.research.google.com/github/angelina-tsuboi/ADSB-Spoof-Detector/blob/main/SpoofDetector.ipynb\" target=\"_parent\"><img src=\"https://colab.research.google.com/assets/colab-badge.svg\" alt=\"Open In Colab\"/></a>"
      ]
    },
    {
      "cell_type": "code",
      "execution_count": 1,
      "metadata": {
        "id": "1yiRD6Q1bh1W"
      },
      "outputs": [],
      "source": [
        "# ADS-B Spoof Detector \n",
        "# Created by Angelina Tsuboi"
      ]
    },
    {
      "cell_type": "code",
      "source": [],
      "metadata": {
        "id": "Yulk2_OT9V4N"
      },
      "execution_count": null,
      "outputs": []
    }
  ]
}