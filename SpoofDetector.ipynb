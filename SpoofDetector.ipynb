{
 "cells": [
  {
   "cell_type": "code",
   "execution_count": null,
   "id": "ef5ca4d3",
   "metadata": {},
   "outputs": [],
   "source": [
    "# ADS-B Spoof Detector \n",
    "# Created by Angelina Tsuboi\n",
    "# Begin by parsing ADS-B data. Attributes include the following:\n",
    "# Reference dump1090 README:\n",
    "# https://github.com/SDRplay/dump1090/blob/master/README-json.md\n",
    "# Label = Spoofed or Not (Binary Classification)\n",
    "# Data samples from Flight Aware and ADSB Exchange\n",
    "# https://www.adsbexchange.com/data-samples/\n",
    "# https://samples.adsbexchange.com/readsb-hist/2022/05/01/\n",
    "# https://www.adsbexchange.com/version-2-api-wip/"
   ]
  },
  {
   "cell_type": "code",
   "execution_count": 6,
   "id": "7307e97e",
   "metadata": {},
   "outputs": [],
   "source": [
    "# Conversion from JSON (raw data given by dump1090 to CSV which is more interpretable by network)\n",
    "# First interpret valid ADSB data then spoofed dataset\n",
    "import json\n",
    "import csv\n",
    "\n",
    "# Valid data parsing first\n",
    "with open('data/aircraft_valid.json') as json_file:\n",
    "    data_valid = json.load(json_file)\n",
    "    \n",
    "# Parse spoofed data\n",
    "with open('data/aircraft_spoofed.json') as json_file:\n",
    "    data_spoofed = json.load(json_file)\n",
    " \n",
    "aircraft_data_valid = data_valid['aircraft']\n",
    "aircraft_data_spoofed = data_spoofed['aircraft']\n",
    " \n",
    "# now we will open a file for writing\n",
    "data_file = open('data/aircraft_data.csv', 'w')\n",
    " \n",
    "# create the csv writer object\n",
    "csv_writer = csv.writer(data_file)\n",
    " \n",
    "# Counter variable used for writing\n",
    "# headers to the CSV file\n",
    "count = 0\n",
    " \n",
    "for aircraft in aircraft_data_valid:\n",
    "    aircraft['is_spoofed'] = False\n",
    "    if count == 0:\n",
    "        # Writing headers of CSV file\n",
    "        header = aircraft.keys()\n",
    "        csv_writer.writerow(header)\n",
    "        count += 1\n",
    " \n",
    "    # Writing data of CSV file\n",
    "    csv_writer.writerow(aircraft.values())\n",
    "\n",
    "for aircraft in aircraft_data_spoofed:\n",
    "    aircraft['is_spoofed'] = True\n",
    "    # Writing data of CSV file\n",
    "    csv_writer.writerow(aircraft.values())\n",
    " \n",
    "data_file.close()"
   ]
  },
  {
   "cell_type": "code",
   "execution_count": null,
   "id": "18760bba",
   "metadata": {},
   "outputs": [],
   "source": [
    "# Prepare Dataset to be Placed into Neural Network\n",
    "# Split into Training and Testing Sets"
   ]
  }
 ],
 "metadata": {
  "kernelspec": {
   "display_name": "Python 3 (ipykernel)",
   "language": "python",
   "name": "python3"
  },
  "language_info": {
   "codemirror_mode": {
    "name": "ipython",
    "version": 3
   },
   "file_extension": ".py",
   "mimetype": "text/x-python",
   "name": "python",
   "nbconvert_exporter": "python",
   "pygments_lexer": "ipython3",
   "version": "3.9.13"
  }
 },
 "nbformat": 4,
 "nbformat_minor": 5
}
